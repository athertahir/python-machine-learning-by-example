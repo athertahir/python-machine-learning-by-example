{
  "nbformat_minor": 1, 
  "nbformat": 4, 
  "cells": [
    {
      "source": [
        "Source codes for Python Machine Learning By Example 2nd Edition (Packt Publishing)\n", 
        "Chapter 9: Stock Price Prediction with Regression Algorithms\n", 
        "Author: Yuxi (Hayden) Liu"
      ], 
      "cell_type": "markdown", 
      "metadata": {}
    }, 
    {
      "source": [
        "from sklearn import datasets\n", 
        "boston = datasets.load_boston()\n", 
        "\n", 
        "num_test = 10    # the last 10 samples as testing set\n", 
        "X_train = boston.data[:-num_test, :]\n", 
        "y_train = boston.target[:-num_test]\n", 
        "X_test = boston.data[-num_test:, :]\n", 
        "y_test = boston.target[-num_test:]\n", 
        "\n", 
        "from sklearn.svm import SVR\n", 
        "regressor = SVR(C=0.1, epsilon=0.02, kernel='linear')\n", 
        "\n", 
        "regressor.fit(X_train, y_train)\n", 
        "predictions = regressor.predict(X_test)\n", 
        "print(predictions)\n"
      ], 
      "cell_type": "code", 
      "execution_count": null, 
      "outputs": [], 
      "metadata": {}
    }
  ], 
  "metadata": {
    "kernelspec": {
      "display_name": "Python 3", 
      "name": "python3", 
      "language": "python"
    }, 
    "language_info": {
      "mimetype": "text/x-python", 
      "nbconvert_exporter": "python", 
      "name": "python", 
      "file_extension": ".py", 
      "version": "3.6.1", 
      "pygments_lexer": "ipython3", 
      "codemirror_mode": {
        "version": 3, 
        "name": "ipython"
      }
    }, 
    "anaconda-cloud": {}
  }
}