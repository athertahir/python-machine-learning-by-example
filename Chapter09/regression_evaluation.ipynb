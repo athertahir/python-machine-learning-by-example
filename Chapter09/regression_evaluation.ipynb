{
  "nbformat_minor": 1, 
  "nbformat": 4, 
  "cells": [
    {
      "source": [
        "Source codes for Python Machine Learning By Example 2nd Edition (Packt Publishing)\n", 
        "Chapter 9: Stock Price Prediction with Regression Algorithms\n", 
        "Author: Yuxi (Hayden) Liu\n", 
        "'''\n", 
        "\n", 
        "from sklearn import datasets\n", 
        "diabetes = datasets.load_diabetes()\n", 
        "num_test = 30    # the last 30 samples as testing set\n", 
        "X_train = diabetes.data[:-num_test, :]\n", 
        "y_train = diabetes.target[:-num_test]\n", 
        "X_test = diabetes.data[-num_test:, :]\n", 
        "y_test = diabetes.target[-num_test:]\n", 
        "param_grid = {\n", 
        "    \"alpha\": [1e-07, 1e-06, 1e-05],\n", 
        "    \"penalty\": [None, \"l2\"],\n", 
        "    \"eta0\": [0.001, 0.005, 0.01],\n", 
        "    \"n_iter\": [300, 1000, 3000]\n", 
        "}\n", 
        "\n", 
        "from sklearn.linear_model import SGDRegressor\n", 
        "from sklearn.model_selection import GridSearchCV\n", 
        "regressor = SGDRegressor(loss='squared_loss',\n", 
        "                             learning_rate='constant')\n", 
        "grid_search = GridSearchCV(regressor, param_grid, cv=3)\n", 
        "\n", 
        "grid_search.fit(X_train, y_train)\n", 
        "print(grid_search.best_params_)\n", 
        "\n", 
        "regressor_best = grid_search.best_estimator_\n", 
        "\n", 
        "\n", 
        "predictions = regressor_best.predict(X_test)\n", 
        "\n", 
        "\n", 
        "from sklearn.metrics import mean_squared_error, mean_absolute_error, r2_score\n", 
        "print(mean_squared_error(y_test, predictions))\n", 
        "\n", 
        "print(mean_absolute_error(y_test, predictions))\n", 
        "\n", 
        "print(r2_score(y_test, predictions))"
      ], 
      "cell_type": "markdown", 
      "metadata": {}
    }
  ], 
  "metadata": {
    "kernelspec": {
      "display_name": "Python 3", 
      "name": "python3", 
      "language": "python"
    }, 
    "language_info": {
      "mimetype": "text/x-python", 
      "nbconvert_exporter": "python", 
      "name": "python", 
      "file_extension": ".py", 
      "version": "3.6.1", 
      "pygments_lexer": "ipython3", 
      "codemirror_mode": {
        "version": 3, 
        "name": "ipython"
      }
    }, 
    "anaconda-cloud": {}
  }
}