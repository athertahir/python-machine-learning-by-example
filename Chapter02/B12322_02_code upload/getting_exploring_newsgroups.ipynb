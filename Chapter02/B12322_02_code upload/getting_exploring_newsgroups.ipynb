{
  "nbformat_minor": 1, 
  "nbformat": 4, 
  "cells": [
    {
      "source": [
        "Source codes for Python Machine Learning By Example 2nd Edition (Packt Publishing)\n", 
        "Chapter 2: Exploring the 20 Newsgroups Dataset with Text Analysis Techniques\n", 
        "Author: Yuxi (Hayden) Liu"
      ], 
      "cell_type": "markdown", 
      "metadata": {}
    }, 
    {
      "source": [
        "from sklearn.datasets import fetch_20newsgroups\n", 
        "\n", 
        "\n", 
        "groups = fetch_20newsgroups()\n", 
        "groups.keys()\n", 
        "groups['target_names']\n", 
        "groups.target\n", 
        "\n", 
        "\n", 
        "import numpy as np\n", 
        "np.unique(groups.target)\n", 
        "\n", 
        "\n", 
        "\n", 
        "import seaborn as sns\n", 
        "sns.distplot(groups.target)\n", 
        "import matplotlib.pyplot as plt\n", 
        "plt.show()\n", 
        "\n", 
        "\n", 
        "groups.data[0]\n", 
        "groups.target[0]\n", 
        "groups.target_names[groups.target[0]]\n", 
        "\n", 
        "\n", 
        "\n"
      ], 
      "cell_type": "code", 
      "execution_count": null, 
      "outputs": [], 
      "metadata": {}
    }
  ], 
  "metadata": {
    "kernelspec": {
      "display_name": "Python 3", 
      "name": "python3", 
      "language": "python"
    }, 
    "language_info": {
      "mimetype": "text/x-python", 
      "nbconvert_exporter": "python", 
      "name": "python", 
      "file_extension": ".py", 
      "version": "3.6.1", 
      "pygments_lexer": "ipython3", 
      "codemirror_mode": {
        "version": 3, 
        "name": "ipython"
      }
    }, 
    "anaconda-cloud": {}
  }
}