{
  "nbformat_minor": 1, 
  "nbformat": 4, 
  "cells": [
    {
      "source": [
        "Source codes for Python Machine Learning By Example 2nd Edition (Packt Publishing)\n", 
        "Chapter 10: Machine Learning Best Practices\n", 
        "Author: Yuxi (Hayden) Liu"
      ], 
      "cell_type": "markdown", 
      "metadata": {}
    }, 
    {
      "source": [
        "import numpy as np\n", 
        "from sklearn.datasets import load_digits\n", 
        "dataset = load_digits()\n", 
        "X, y = dataset.data, dataset.target\n", 
        "print(X.shape)\n", 
        "\n", 
        "# Estimate accuracy on the original data set\n", 
        "from sklearn.svm import SVC\n", 
        "from sklearn.model_selection import cross_val_score\n", 
        "import warnings\n", 
        "warnings.simplefilter(\"ignore\")\n", 
        "\n", 
        "classifier = SVC(gamma=0.005)\n", 
        "score = cross_val_score(classifier, X, y).mean()\n", 
        "print('Score with the original data set: {0:.2f}'.format(score))\n", 
        "\n", 
        "\n", 
        "# Feature selection with random forest\n", 
        "from sklearn.ensemble import RandomForestClassifier\n", 
        "random_forest = RandomForestClassifier(n_estimators=100, criterion='gini', n_jobs=-1)\n", 
        "random_forest.fit(X, y)\n", 
        "\n", 
        "# Sort features based on their importancies\n", 
        "feature_sorted = np.argsort(random_forest.feature_importances_)\n", 
        "\n", 
        "# Select different number of top features\n", 
        "K = [10, 15, 25, 35, 45]\n", 
        "for k in K:\n", 
        "    top_K_features = feature_sorted[-k:]\n", 
        "    X_k_selected = X[:, top_K_features]\n", 
        "    # Estimate accuracy on the data set with k selected features\n", 
        "    classifier = SVC(gamma=0.005)\n", 
        "    score_k_features = cross_val_score(classifier, X_k_selected, y).mean()\n", 
        "    print('Score with the data set of top {0} features: {1:.2f}'.format(k, score_k_features))\n", 
        "\n"
      ], 
      "cell_type": "code", 
      "execution_count": null, 
      "outputs": [], 
      "metadata": {}
    }
  ], 
  "metadata": {
    "kernelspec": {
      "display_name": "Python 3", 
      "name": "python3", 
      "language": "python"
    }, 
    "language_info": {
      "mimetype": "text/x-python", 
      "nbconvert_exporter": "python", 
      "name": "python", 
      "file_extension": ".py", 
      "version": "3.6.1", 
      "pygments_lexer": "ipython3", 
      "codemirror_mode": {
        "version": 3, 
        "name": "ipython"
      }
    }, 
    "anaconda-cloud": {}
  }
}