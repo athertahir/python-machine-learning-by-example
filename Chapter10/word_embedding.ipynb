{
  "nbformat_minor": 1, 
  "nbformat": 4, 
  "cells": [
    {
      "source": [
        "Source codes for Python Machine Learning By Example 2nd Edition (Packt Publishing)\n", 
        "Chapter 10: Machine Learning Best Practices\n", 
        "Author: Yuxi (Hayden) Liu\n", 
        "'''\n", 
        "\n", 
        "import gensim.downloader as api\n", 
        "\n", 
        "model = api.load(\"glove-twitter-25\")\n", 
        "\n", 
        "\n", 
        "vector = model.wv['computer']\n", 
        "print('Word computer is embedded into:\\n', vector)\n", 
        "\n", 
        "similar_words = model.most_similar(\"computer\")\n", 
        "print('Top ten words most contextually relevant to computer:\\n', similar_words)\n", 
        "\n", 
        "\n", 
        "\n", 
        "doc_sample = ['i', 'love', 'reading', 'python', 'machine', 'learning', 'by', 'example']\n", 
        "\n", 
        "import numpy as np\n", 
        "doc_vector = np.mean([model.wv[word] for word in doc_sample], axis=0)\n", 
        "print('The document sample is embedded into:\\n', doc_vector)"
      ], 
      "cell_type": "markdown", 
      "metadata": {}
    }
  ], 
  "metadata": {
    "kernelspec": {
      "display_name": "Python 3", 
      "name": "python3", 
      "language": "python"
    }, 
    "language_info": {
      "mimetype": "text/x-python", 
      "nbconvert_exporter": "python", 
      "name": "python", 
      "file_extension": ".py", 
      "version": "3.6.1", 
      "pygments_lexer": "ipython3", 
      "codemirror_mode": {
        "version": 3, 
        "name": "ipython"
      }
    }, 
    "anaconda-cloud": {}
  }
}