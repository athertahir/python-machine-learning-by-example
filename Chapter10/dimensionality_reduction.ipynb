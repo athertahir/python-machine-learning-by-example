{
  "nbformat_minor": 1, 
  "nbformat": 4, 
  "cells": [
    {
      "source": [
        "Source codes for Python Machine Learning By Example 2nd Edition (Packt Publishing)\n", 
        "Chapter 10: Machine Learning Best Practices\n", 
        "Author: Yuxi (Hayden) Liu\n", 
        "'''\n", 
        "\n", 
        "\n", 
        "\n", 
        "from sklearn.datasets import load_digits\n", 
        "dataset = load_digits()\n", 
        "X, y = dataset.data, dataset.target\n", 
        "\n", 
        "from sklearn.svm import SVC\n", 
        "from sklearn.model_selection import cross_val_score\n", 
        "\n", 
        "\n", 
        "\n", 
        "from sklearn.decomposition import PCA\n", 
        "\n", 
        "# Keep different number of top components\n", 
        "N = [10, 15, 25, 35, 45]\n", 
        "for n in N:\n", 
        "    pca = PCA(n_components=n)\n", 
        "    X_n_kept = pca.fit_transform(X)\n", 
        "    # Estimate accuracy on the data set with top n components\n", 
        "    classifier = SVC(gamma=0.005)\n", 
        "    score_n_components = cross_val_score(classifier, X_n_kept, y).mean()\n", 
        "    print('Score with the data set of top {0} components: {1:.2f}'.format(n, score_n_components))"
      ], 
      "cell_type": "markdown", 
      "metadata": {}
    }
  ], 
  "metadata": {
    "kernelspec": {
      "display_name": "Python 3", 
      "name": "python3", 
      "language": "python"
    }, 
    "language_info": {
      "mimetype": "text/x-python", 
      "nbconvert_exporter": "python", 
      "name": "python", 
      "file_extension": ".py", 
      "version": "3.6.1", 
      "pygments_lexer": "ipython3", 
      "codemirror_mode": {
        "version": 3, 
        "name": "ipython"
      }
    }, 
    "anaconda-cloud": {}
  }
}