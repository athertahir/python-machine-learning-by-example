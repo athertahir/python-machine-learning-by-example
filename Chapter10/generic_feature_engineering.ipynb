{
  "nbformat_minor": 1, 
  "nbformat": 4, 
  "cells": [
    {
      "source": [
        "Source codes for Python Machine Learning By Example 2nd Edition (Packt Publishing)\n", 
        "Chapter 10: Machine Learning Best Practices\n", 
        "Author: Yuxi (Hayden) Liu\n", 
        "'''\n", 
        "\n", 
        "from sklearn.preprocessing import Binarizer\n", 
        "\n", 
        "X = [[4], [1], [3], [0]]\n", 
        "binarizer = Binarizer(threshold=2.9)\n", 
        "X_new = binarizer.fit_transform(X)\n", 
        "print(X_new)\n", 
        "\n", 
        "\n", 
        "\n", 
        "\n", 
        "from sklearn.preprocessing import PolynomialFeatures\n", 
        "\n", 
        "X = [[2, 4],\n", 
        "     [1, 3],\n", 
        "     [3, 2],\n", 
        "     [0, 3]]\n", 
        "poly = PolynomialFeatures(degree=2)\n", 
        "X_new = poly.fit_transform(X)\n", 
        "print(X_new)"
      ], 
      "cell_type": "markdown", 
      "metadata": {}
    }
  ], 
  "metadata": {
    "kernelspec": {
      "display_name": "Python 3", 
      "name": "python3", 
      "language": "python"
    }, 
    "language_info": {
      "mimetype": "text/x-python", 
      "nbconvert_exporter": "python", 
      "name": "python", 
      "file_extension": ".py", 
      "version": "3.6.1", 
      "pygments_lexer": "ipython3", 
      "codemirror_mode": {
        "version": 3, 
        "name": "ipython"
      }
    }, 
    "anaconda-cloud": {}
  }
}