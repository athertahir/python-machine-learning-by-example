{
  "nbformat_minor": 1, 
  "nbformat": 4, 
  "cells": [
    {
      "source": [
        "Source codes for Python Machine Learning By Example 2nd Edition (Packt Publishing)\n", 
        "Chapter 10: Machine Learning Best Practices\n", 
        "Author: Yuxi (Hayden) Liu"
      ], 
      "cell_type": "markdown", 
      "metadata": {}
    }, 
    {
      "source": [
        "from sklearn import datasets\n", 
        "dataset = datasets.load_diabetes()\n", 
        "X, y = dataset.data, dataset.target\n", 
        "\n", 
        "num_new = 30    # the last 30 samples as new data set\n", 
        "X_train = X[:-num_new, :]\n", 
        "y_train = y[:-num_new]\n", 
        "X_new = X[-num_new:, :]\n", 
        "y_new = y[-num_new:]\n", 
        "\n", 
        "\n", 
        "# Data pre-processing\n", 
        "from sklearn.preprocessing import StandardScaler\n", 
        "scaler = StandardScaler()\n", 
        "scaler.fit(X_train)\n", 
        "\n", 
        "import pickle\n", 
        "# Save the scaler\n", 
        "pickle.dump(scaler, open(\"scaler.p\", \"wb\" ))\n", 
        "\n", 
        "X_scaled_train = scaler.transform(X_train)\n", 
        "\n", 
        "\n", 
        "# Regression model training\n", 
        "from sklearn.svm import SVR\n", 
        "regressor = SVR(C=20)\n", 
        "regressor.fit(X_scaled_train, y_train)\n", 
        "# Save the regressor\n", 
        "pickle.dump(regressor, open(\"regressor.p\", \"wb\"))\n", 
        "\n", 
        "\n", 
        "# Deployment\n", 
        "my_scaler = pickle.load(open(\"scaler.p\", \"rb\" ))\n", 
        "my_regressor = pickle.load(open(\"regressor.p\", \"rb\"))\n", 
        "\n", 
        "X_scaled_new = my_scaler.transform(X_new)\n", 
        "predictions = my_regressor.predict(X_scaled_new)\n", 
        "\n", 
        "\n", 
        "# Monitor\n", 
        "from sklearn.metrics import r2_score\n", 
        "print('Health check on the model, R^2: {0:.3f}'.format(r2_score(y_new, predictions)))\n"
      ], 
      "cell_type": "code", 
      "execution_count": null, 
      "outputs": [], 
      "metadata": {}
    }
  ], 
  "metadata": {
    "kernelspec": {
      "display_name": "Python 3", 
      "name": "python3", 
      "language": "python"
    }, 
    "language_info": {
      "mimetype": "text/x-python", 
      "nbconvert_exporter": "python", 
      "name": "python", 
      "file_extension": ".py", 
      "version": "3.6.1", 
      "pygments_lexer": "ipython3", 
      "codemirror_mode": {
        "version": 3, 
        "name": "ipython"
      }
    }, 
    "anaconda-cloud": {}
  }
}