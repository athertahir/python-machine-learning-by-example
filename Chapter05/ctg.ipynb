{
  "nbformat_minor": 1, 
  "nbformat": 4, 
  "cells": [
    {
      "source": [
        "Source codes for Python Machine Learning By Example 2nd Edition (Packt Publishing)\n", 
        "Chapter 5: Classifying Newsgroup Topic with Support Vector Machine\n", 
        "Author: Yuxi (Hayden) Liu"
      ], 
      "cell_type": "markdown", 
      "metadata": {}
    }, 
    {
      "source": [
        "import pandas as pd\n", 
        "import warnings\n", 
        "warnings.simplefilter(\"ignore\")\n", 
        "\n", 
        "df = pd.read_excel('CTG.xls', \"Raw Data\")\n", 
        "\n", 
        "X = df.ix[1:2126, 3:-2].values\n", 
        "Y = df.ix[1:2126, -1].values\n", 
        "\n", 
        "from collections import Counter\n", 
        "Counter(Y)\n", 
        "\n", 
        "from sklearn.model_selection import train_test_split\n", 
        "X_train, X_test, Y_train, Y_test = train_test_split(X, Y, test_size=0.2, random_state=42)\n", 
        "\n", 
        "from sklearn.svm import SVC\n", 
        "svc = SVC(kernel='rbf')\n", 
        "\n", 
        "parameters = {'C': (100, 1e3, 1e4, 1e5),\n", 
        "              'gamma': (1e-08, 1e-7, 1e-6, 1e-5)\n", 
        "              }\n", 
        "from sklearn.model_selection import GridSearchCV\n", 
        "grid_search = GridSearchCV(svc, parameters, n_jobs=-1, cv=5)\n", 
        "\n", 
        "\n", 
        "import timeit\n", 
        "start_time = timeit.default_timer()\n", 
        "grid_search.fit(X_train, Y_train)\n", 
        "print(\"--- %0.3fs seconds ---\" % (timeit.default_timer() - start_time))\n", 
        "\n", 
        "print(grid_search.best_params_)\n", 
        "print(grid_search.best_score_)\n", 
        "\n", 
        "svc_best = grid_search.best_estimator_\n", 
        "\n", 
        "accuracy = svc_best.score(X_test, Y_test)\n", 
        "print('The accuracy on testing set is: {0:.1f}%'.format(accuracy*100))\n", 
        "\n", 
        "prediction = svc_best.predict(X_test)\n", 
        "from sklearn.metrics import classification_report\n", 
        "report = classification_report(Y_test, prediction)\n", 
        "print(report)"
      ], 
      "cell_type": "code", 
      "execution_count": null, 
      "outputs": [], 
      "metadata": {}
    }
  ], 
  "metadata": {
    "kernelspec": {
      "display_name": "Python 3", 
      "name": "python3", 
      "language": "python"
    }, 
    "language_info": {
      "mimetype": "text/x-python", 
      "nbconvert_exporter": "python", 
      "name": "python", 
      "file_extension": ".py", 
      "version": "3.6.1", 
      "pygments_lexer": "ipython3", 
      "codemirror_mode": {
        "version": 3, 
        "name": "ipython"
      }
    }, 
    "anaconda-cloud": {}
  }
}