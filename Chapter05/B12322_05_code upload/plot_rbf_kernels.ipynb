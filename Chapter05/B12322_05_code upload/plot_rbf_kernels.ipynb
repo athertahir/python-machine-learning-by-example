{
  "nbformat_minor": 1, 
  "nbformat": 4, 
  "cells": [
    {
      "source": [
        "Source codes for Python Machine Learning By Example 2nd Edition (Packt Publishing)\n", 
        "Chapter 5: Classifying Newsgroup Topic with Support Vector Machine\n", 
        "Author: Yuxi (Hayden) Liu"
      ], 
      "cell_type": "markdown", 
      "metadata": {}
    }, 
    {
      "source": [
        "import numpy as np\n", 
        "%matplotlib notebook\n", 
        "import matplotlib.pyplot as plt\n", 
        "from sklearn.svm import SVC\n", 
        "\n", 
        "X = np.c_[# negative class\n", 
        "          (.3, -.8),\n", 
        "          (-1.5, -1),\n", 
        "          (-1.3, -.8),\n", 
        "          (-1.1, -1.3),\n", 
        "          (-1.2, -.3),\n", 
        "          (-1.3, -.5),\n", 
        "          (-.6, 1.1),\n", 
        "          (-1.4, 2.2),\n", 
        "          (1, 1),\n", 
        "          # positive class\n", 
        "          (1.3, .8),\n", 
        "          (1.2, .5),\n", 
        "          (.2, -2),\n", 
        "          (.5, -2.4),\n", 
        "          (.2, -2.3),\n", 
        "          (0, -2.7),\n", 
        "          (1.3, 2.1)].T\n", 
        "Y = [-1] * 8 + [1] * 8\n", 
        "\n", 
        "gamma_option = [1, 2, 4]\n", 
        "\n", 
        "for i, gamma in enumerate(gamma_option, 1):\n", 
        "    svm = SVC(kernel='rbf', gamma=gamma)\n", 
        "    svm.fit(X, Y)\n", 
        "    plt.scatter(X[:, 0], X[:, 1], c=['b']*8+['r']*8, zorder=10, cmap=plt.cm.Paired)\n", 
        "    plt.axis('tight')\n", 
        "    XX, YY = np.mgrid[-3:3:200j, -3:3:200j]\n", 
        "    Z = svm.decision_function(np.c_[XX.ravel(), YY.ravel()])\n", 
        "    Z = Z.reshape(XX.shape)\n", 
        "    plt.pcolormesh(XX, YY, Z > 0, cmap=plt.cm.Paired)\n", 
        "    plt.contour(XX, YY, Z, colors=['k', 'k', 'k'], linestyles=['--', '-', '--'], levels=[-.5, 0, .5])\n", 
        "    plt.title('gamma = %d' % gamma)\n", 
        "    plt.show()\n", 
        "\n"
      ], 
      "cell_type": "code", 
      "execution_count": null, 
      "outputs": [], 
      "metadata": {}
    }
  ], 
  "metadata": {
    "kernelspec": {
      "display_name": "Python 3", 
      "name": "python3", 
      "language": "python"
    }, 
    "language_info": {
      "mimetype": "text/x-python", 
      "nbconvert_exporter": "python", 
      "name": "python", 
      "file_extension": ".py", 
      "version": "3.6.1", 
      "pygments_lexer": "ipython3", 
      "codemirror_mode": {
        "version": 3, 
        "name": "ipython"
      }
    }, 
    "anaconda-cloud": {}
  }
}