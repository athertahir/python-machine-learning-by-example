{
  "nbformat_minor": 1, 
  "nbformat": 4, 
  "cells": [
    {
      "source": [
        "Source codes for Python Machine Learning By Example 2nd Edition (Packt Publishing)\n", 
        "Chapter 7: Predicting Online Ads Click-through with Logistic Regression\n", 
        "Author: Yuxi (Hayden) Liu"
      ], 
      "cell_type": "markdown", 
      "metadata": {}
    }, 
    {
      "source": [
        "import numpy as np\n", 
        "from sklearn.metrics import roc_auc_score\n", 
        "\n", 
        "\n", 
        "import pandas as pd\n", 
        "n_rows = 100000\n", 
        "df = pd.read_csv(\"train\", nrows=n_rows)\n", 
        "\n", 
        "X = df.drop(['click', 'id', 'hour', 'device_id', 'device_ip'], axis=1).values\n", 
        "Y = df['click'].values\n", 
        "\n", 
        "\n", 
        "X_train = X\n", 
        "Y_train = Y\n", 
        "\n", 
        "\n", 
        "from sklearn.preprocessing import OneHotEncoder\n", 
        "enc = OneHotEncoder(handle_unknown='ignore')\n", 
        "X_train_enc = enc.fit_transform(X_train)\n", 
        "\n", 
        "\n", 
        "\n", 
        "# Feature selection with random forest\n", 
        "\n", 
        "from sklearn.ensemble import RandomForestClassifier\n", 
        "random_forest = RandomForestClassifier(n_estimators=100, criterion='gini', min_samples_split=30, n_jobs=-1)\n", 
        "random_forest.fit(X_train_enc.toarray(), Y_train)\n", 
        "\n", 
        "\n", 
        "\n", 
        "\n", 
        "feature_imp = random_forest.feature_importances_\n", 
        "print(feature_imp)\n", 
        "\n", 
        "# bottom 10 weights and the corresponding 10 least important features\n", 
        "feature_names = enc.get_feature_names()\n", 
        "print(np.sort(feature_imp)[:10])\n", 
        "bottom_10 = np.argsort(feature_imp)[:10]\n", 
        "print('10 least important features are:\\n', feature_names[bottom_10])\n", 
        "\n", 
        "# top 10 weights and the corresponding 10 most important features\n", 
        "print(np.sort(feature_imp)[-10:])\n", 
        "top_10 = np.argsort(feature_imp)[-10:]\n", 
        "print('10 most important features are:\\n', feature_names[top_10])\n", 
        "\n"
      ], 
      "cell_type": "code", 
      "execution_count": null, 
      "outputs": [], 
      "metadata": {}
    }
  ], 
  "metadata": {
    "kernelspec": {
      "display_name": "Python 3", 
      "name": "python3", 
      "language": "python"
    }, 
    "language_info": {
      "mimetype": "text/x-python", 
      "nbconvert_exporter": "python", 
      "name": "python", 
      "file_extension": ".py", 
      "version": "3.6.1", 
      "pygments_lexer": "ipython3", 
      "codemirror_mode": {
        "version": 3, 
        "name": "ipython"
      }
    }, 
    "anaconda-cloud": {}
  }
}