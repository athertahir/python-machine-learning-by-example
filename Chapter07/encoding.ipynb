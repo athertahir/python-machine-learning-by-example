{
  "nbformat_minor": 1, 
  "nbformat": 4, 
  "cells": [
    {
      "source": [
        "Source codes for Python Machine Learning By Example 2nd Edition (Packt Publishing)\n", 
        "Chapter 7: Predicting Online Ads Click-through with Logistic Regression\n", 
        "Author: Yuxi (Hayden) Liu"
      ], 
      "cell_type": "markdown", 
      "metadata": {}
    }, 
    {
      "source": [
        "from sklearn.feature_extraction import DictVectorizer\n", 
        "\n", 
        "\n", 
        "X_dict = [{'interest': 'tech', 'occupation': 'professional'},\n", 
        "          {'interest': 'fashion', 'occupation': 'student'},\n", 
        "          {'interest': 'fashion', 'occupation': 'professional'},\n", 
        "          {'interest': 'sports', 'occupation': 'student'},\n", 
        "          {'interest': 'tech', 'occupation': 'student'},\n", 
        "          {'interest': 'tech', 'occupation': 'retired'},\n", 
        "          {'interest': 'sports', 'occupation': 'professional'}]\n", 
        "\n", 
        "dict_one_hot_encoder = DictVectorizer(sparse=False)\n", 
        "X_encoded = dict_one_hot_encoder.fit_transform(X_dict)\n", 
        "print(X_encoded)\n", 
        "\n", 
        "print(dict_one_hot_encoder.vocabulary_)\n", 
        "\n", 
        "\n", 
        "new_dict = [{'interest': 'sports', 'occupation': 'retired'}]\n", 
        "new_encoded = dict_one_hot_encoder.transform(new_dict)\n", 
        "print(new_encoded)\n", 
        "\n", 
        "print(dict_one_hot_encoder.inverse_transform(new_encoded))\n", 
        "\n", 
        "\n", 
        "# new category not encountered before\n", 
        "new_dict = [{'interest': 'unknown_interest', 'occupation': 'retired'},\n", 
        "            {'interest': 'tech', 'occupation': 'unseen_occupation'}]\n", 
        "new_encoded = dict_one_hot_encoder.transform(new_dict)\n", 
        "print(new_encoded)\n", 
        "\n", 
        "\n", 
        "\n", 
        "import pandas as pd\n", 
        "df = pd.DataFrame({'score': ['low',\n", 
        "                             'high',\n", 
        "                             'medium',\n", 
        "                             'medium',\n", 
        "                             'low']})\n", 
        "print(df)\n", 
        "\n", 
        "mapping = {'low':1, 'medium':2, 'high':3}\n", 
        "df['score'] = df['score'].replace(mapping)\n", 
        "\n", 
        "print(df)"
      ], 
      "cell_type": "code", 
      "execution_count": null, 
      "outputs": [], 
      "metadata": {}
    }
  ], 
  "metadata": {
    "kernelspec": {
      "display_name": "Python 3", 
      "name": "python3", 
      "language": "python"
    }, 
    "language_info": {
      "mimetype": "text/x-python", 
      "nbconvert_exporter": "python", 
      "name": "python", 
      "file_extension": ".py", 
      "version": "3.6.1", 
      "pygments_lexer": "ipython3", 
      "codemirror_mode": {
        "version": 3, 
        "name": "ipython"
      }
    }, 
    "anaconda-cloud": {}
  }
}