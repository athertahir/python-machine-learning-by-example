{
  "nbformat_minor": 1, 
  "nbformat": 4, 
  "cells": [
    {
      "source": [
        "Source codes for Python Machine Learning By Example 2nd Edition (Packt Publishing)\n", 
        "Chapter 7: Predicting Online Ads Click-through with Logistic Regression\n", 
        "Author: Yuxi (Hayden) Liu"
      ], 
      "cell_type": "markdown", 
      "metadata": {}
    }, 
    {
      "source": [
        "import numpy as np\n", 
        "\n", 
        "\n", 
        "def sigmoid(input):\n", 
        "    return 1.0 / (1 + np.exp(-input))\n", 
        "\n", 
        "\n", 
        "%matplotlib notebook\n", 
        "import matplotlib.pyplot as plt\n", 
        "z = np.linspace(-8, 8, 1000)\n", 
        "y = sigmoid(z)\n", 
        "plt.plot(z, y)\n", 
        "plt.axhline(y=0, ls='dotted', color='k')\n", 
        "plt.axhline(y=0.5, ls='dotted', color='k')\n", 
        "plt.axhline(y=1, ls='dotted', color='k')\n", 
        "plt.yticks([0.0, 0.25, 0.5, 0.75, 1.0])\n", 
        "plt.xlabel('z')\n", 
        "plt.ylabel('y(z)')\n", 
        "plt.show()\n", 
        "\n", 
        "\n", 
        "# plot sample cost vs y_hat (prediction), for y (truth) = 1\n", 
        "y_hat = np.linspace(0, 1, 1000)\n", 
        "cost = -np.log(y_hat)\n", 
        "plt.plot(y_hat, cost)\n", 
        "plt.xlabel('Prediction')\n", 
        "plt.ylabel('Cost')\n", 
        "plt.xlim(0, 1)\n", 
        "plt.ylim(0, 7)\n", 
        "plt.show()\n", 
        "\n", 
        "# plot sample cost vs y_hat (prediction), for y (truth) = 0\n", 
        "y_hat = np.linspace(0, 1, 1000)\n", 
        "cost = -np.log(1 - y_hat)\n", 
        "plt.plot(y_hat, cost)\n", 
        "plt.xlabel('Prediction')\n", 
        "plt.ylabel('Cost')\n", 
        "plt.xlim(0, 1)\n", 
        "plt.ylim(0, 7)\n", 
        "plt.show()\n", 
        "\n"
      ], 
      "cell_type": "code", 
      "execution_count": null, 
      "outputs": [], 
      "metadata": {}
    }
  ], 
  "metadata": {
    "kernelspec": {
      "display_name": "Python 3", 
      "name": "python3", 
      "language": "python"
    }, 
    "language_info": {
      "mimetype": "text/x-python", 
      "nbconvert_exporter": "python", 
      "name": "python", 
      "file_extension": ".py", 
      "version": "3.6.1", 
      "pygments_lexer": "ipython3", 
      "codemirror_mode": {
        "version": 3, 
        "name": "ipython"
      }
    }, 
    "anaconda-cloud": {}
  }
}