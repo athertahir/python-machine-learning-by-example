{
  "nbformat_minor": 1, 
  "nbformat": 4, 
  "cells": [
    {
      "source": [
        "Source codes for Python Machine Learning By Example 2nd Edition (Packt Publishing)\n", 
        "Chapter 3: Mining the 20 Newsgroups Dataset with Clustering and Topic Modeling Algorithms\n", 
        "Author: Yuxi (Hayden) Liu"
      ], 
      "cell_type": "markdown", 
      "metadata": {}
    }, 
    {
      "source": [
        "from sklearn import datasets\n", 
        "from sklearn.cluster import KMeans\n", 
        "import numpy as np\n", 
        "from matplotlib import pyplot as plt\n", 
        "\n", 
        "iris = datasets.load_iris()\n", 
        "X = iris.data\n", 
        "y = iris.target\n", 
        "\n", 
        "\n", 
        "k_list = list(range(1, 7))\n", 
        "sse_list = [0] * len(k_list)\n", 
        "\n", 
        "for k_ind, k in enumerate(k_list):\n", 
        "    kmeans = KMeans(n_clusters=k, random_state=42)\n", 
        "    kmeans.fit(X)\n", 
        "    clusters = kmeans.labels_\n", 
        "    centroids = kmeans.cluster_centers_\n", 
        "\n", 
        "    sse = 0\n", 
        "    for i in range(k):\n", 
        "        cluster_i = np.where(clusters == i)\n", 
        "\n", 
        "        sse += np.linalg.norm(X[cluster_i] - centroids[i])\n", 
        "\n", 
        "    print('k={}, SSE={}'.format(k, sse))\n", 
        "    sse_list[k_ind] = sse\n", 
        "\n", 
        "\n", 
        "\n", 
        "plt.plot(k_list, sse_list)\n", 
        "plt.show()\n"
      ], 
      "cell_type": "code", 
      "execution_count": null, 
      "outputs": [], 
      "metadata": {}
    }
  ], 
  "metadata": {
    "kernelspec": {
      "display_name": "Python 3", 
      "name": "python3", 
      "language": "python"
    }, 
    "language_info": {
      "mimetype": "text/x-python", 
      "nbconvert_exporter": "python", 
      "name": "python", 
      "file_extension": ".py", 
      "version": "3.6.1", 
      "pygments_lexer": "ipython3", 
      "codemirror_mode": {
        "version": 3, 
        "name": "ipython"
      }
    }, 
    "anaconda-cloud": {}
  }
}