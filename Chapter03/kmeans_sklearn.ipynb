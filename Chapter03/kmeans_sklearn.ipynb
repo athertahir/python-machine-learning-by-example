{
  "nbformat_minor": 1, 
  "nbformat": 4, 
  "cells": [
    {
      "source": [
        "Source codes for Python Machine Learning By Example 2nd Edition (Packt Publishing)\n", 
        "Chapter 3: Mining the 20 Newsgroups Dataset with Clustering and Topic Modeling Algorithms\n", 
        "Author: Yuxi (Hayden) Liu"
      ], 
      "cell_type": "markdown", 
      "metadata": {}
    }, 
    {
      "source": [
        "from sklearn import datasets\n", 
        "iris = datasets.load_iris()\n", 
        "X = iris.data[:, 2:4]\n", 
        "y = iris.target\n", 
        "\n", 
        "import numpy as np\n", 
        "%matplotlib inline\n", 
        "from matplotlib import pyplot as plt\n", 
        "\n", 
        "k = 3\n", 
        "from sklearn.cluster import KMeans\n", 
        "kmeans_sk = KMeans(n_clusters=3, random_state=42)\n", 
        "kmeans_sk.fit(X)\n", 
        "clusters_sk = kmeans_sk.labels_\n", 
        "centroids_sk = kmeans_sk.cluster_centers_\n", 
        "\n", 
        "for i in range(k):\n", 
        "    cluster_i = np.where(clusters_sk == i)\n", 
        "    plt.scatter(X[cluster_i, 0], X[cluster_i, 1])\n", 
        "plt.scatter(centroids_sk[:, 0], centroids_sk[:, 1], marker='*', s=200, c='#050505')\n", 
        "plt.show()\n"
      ], 
      "cell_type": "code", 
      "execution_count": null, 
      "outputs": [], 
      "metadata": {}
    }
  ], 
  "metadata": {
    "kernelspec": {
      "display_name": "Python 3", 
      "name": "python3", 
      "language": "python"
    }, 
    "language_info": {
      "mimetype": "text/x-python", 
      "nbconvert_exporter": "python", 
      "name": "python", 
      "file_extension": ".py", 
      "version": "3.6.1", 
      "pygments_lexer": "ipython3", 
      "codemirror_mode": {
        "version": 3, 
        "name": "ipython"
      }
    }, 
    "anaconda-cloud": {}
  }
}